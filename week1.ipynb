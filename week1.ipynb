{
 "cells": [
  {
   "cell_type": "markdown",
   "metadata": {},
   "source": [
    "<h3><center>Week 1 - Assignment </center></h3>\n",
    "<h4><center>Jyoya Karki</center></h4>\n",
    "<h4><center>Presidential Graduate School</center></h4>\n",
    "<h4><center>PRG 330: Python Programming with Data</center></h4>\n",
    "<h4><center>Prof. Tek Raj Pant </center></h4>\n",
    "<h4><center>October 27, 2024</center></h4>"
   ]
  },
  {
   "cell_type": "markdown",
   "metadata": {},
   "source": [
    "First Program (This is my first hello world program in python)"
   ]
  },
  {
   "cell_type": "code",
   "execution_count": 1,
   "metadata": {},
   "outputs": [
    {
     "name": "stdout",
     "output_type": "stream",
     "text": [
      "hello world\n"
     ]
    }
   ],
   "source": [
    "hello = \"hello world\"\n",
    "print(hello)\n"
   ]
  },
  {
   "cell_type": "markdown",
   "metadata": {},
   "source": [
    "Python Numbers "
   ]
  },
  {
   "cell_type": "code",
   "execution_count": 2,
   "metadata": {},
   "outputs": [
    {
     "name": "stdout",
     "output_type": "stream",
     "text": [
      "1j\n",
      "3.14\n",
      "30\n",
      "<class 'float'>\n"
     ]
    }
   ],
   "source": [
    "#int \n",
    "pi = 3.14  \n",
    "age = 30 \n",
    "#float \n",
    "price = 10.5 \n",
    "#imaginary \n",
    "real_imaginary = 1j\n",
    "print(real_imaginary)\n",
    "print(pi)\n",
    "print(age)\n",
    "print(type(pi))\n"
   ]
  },
  {
   "cell_type": "markdown",
   "metadata": {},
   "source": [
    "Arithmatic Operations "
   ]
  },
  {
   "cell_type": "code",
   "execution_count": 3,
   "metadata": {},
   "outputs": [
    {
     "name": "stdout",
     "output_type": "stream",
     "text": [
      "15\n",
      "-5\n",
      "50\n",
      "0.5\n",
      "5\n",
      "9765625\n",
      "0\n"
     ]
    }
   ],
   "source": [
    "a = 5 \n",
    "b = 10 \n",
    "sum_of_ab = a+b \n",
    "diff_of_ab = a-b \n",
    "product_of_ab = a*b \n",
    "div_of_ab = a/b \n",
    "rem_a_b = a%b \n",
    "total_ram_size = a**b \n",
    "Divide_w_floor = a // b\n",
    "print(sum_of_ab)\n",
    "print(diff_of_ab)\n",
    "print(product_of_ab)\n",
    "print(div_of_ab)\n",
    "print(rem_a_b)\n",
    "print(total_ram_size)\n",
    "print(Divide_w_floor)\n"
   ]
  },
  {
   "cell_type": "markdown",
   "metadata": {},
   "source": [
    "String "
   ]
  },
  {
   "cell_type": "code",
   "execution_count": 4,
   "metadata": {},
   "outputs": [
    {
     "name": "stdout",
     "output_type": "stream",
     "text": [
      "Jyoya Karki\n",
      "11\n"
     ]
    }
   ],
   "source": [
    "name = \"Jyoya Karki\"\n",
    "print (name)\n",
    "total_no_of_chars = len(name)\n",
    "print(total_no_of_chars)\n"
   ]
  },
  {
   "cell_type": "code",
   "execution_count": 6,
   "metadata": {},
   "outputs": [
    {
     "name": "stdout",
     "output_type": "stream",
     "text": [
      "Susmaan raj shrestha\n"
     ]
    }
   ],
   "source": [
    "name = \"Susmaan raj shrestha \"\n",
    "first_name = name[:7]\n",
    "middle_name = name[8:11]\n",
    "last_name = name [12:20]\n",
    "print(first_name, middle_name, last_name)\n"
   ]
  },
  {
   "cell_type": "markdown",
   "metadata": {},
   "source": [
    "Conditional Statement "
   ]
  },
  {
   "cell_type": "code",
   "execution_count": 1,
   "metadata": {},
   "outputs": [
    {
     "name": "stdout",
     "output_type": "stream",
     "text": [
      "Its Holiday\n",
      "test\n"
     ]
    }
   ],
   "source": [
    "day = int(input(\"Enter day\"))\n",
    "if day == 4:\n",
    "    print(\"I have to wake up at 5AM\")\n",
    "    print(\"I have to go to Office\")\n",
    "    print(\"Its Wednesday\")\n",
    "if day == 5:\n",
    "    print(\"Its Holiday\")\n",
    "print('test')"
   ]
  },
  {
   "cell_type": "code",
   "execution_count": 4,
   "metadata": {},
   "outputs": [
    {
     "name": "stdout",
     "output_type": "stream",
     "text": [
      "test\n"
     ]
    }
   ],
   "source": [
    "day = int(input(\"Enter day\"))\n",
    "if day == 4:\n",
    "    print(\"I have to wake up at 5AM\")\n",
    "    print(\"I have to go to Office\")\n",
    "    print(\"Its Wednesday\")\n",
    "elif day == 5:\n",
    "    print(\"Its Holiday\")\n",
    "else:\n",
    "    print('test')"
   ]
  },
  {
   "cell_type": "code",
   "execution_count": 6,
   "metadata": {},
   "outputs": [
    {
     "name": "stdout",
     "output_type": "stream",
     "text": [
      "Its not an even number\n"
     ]
    }
   ],
   "source": [
    "number=int(input(\"Enter a number\"))\n",
    "if number %2 == 0:\n",
    "    print(\"Its an even number\")\n",
    "else:\n",
    "    print (\"Its not an even number\")\n",
    "\n",
    "           "
   ]
  },
  {
   "cell_type": "code",
   "execution_count": 7,
   "metadata": {},
   "outputs": [
    {
     "name": "stdout",
     "output_type": "stream",
     "text": [
      "its DSA class\n"
     ]
    }
   ],
   "source": [
    "time=int(input(\"Enter time\"))\n",
    "if time >= 10 and time<12:\n",
    "    print(\"its time for Python\")\n",
    "elif time >=12 and time<14:\n",
    "    print(\"its DSA class\")\n",
    "elif time >=14 and time<16:\n",
    "    print(\"its English class\")\n",
    "else:\n",
    "    print(\"Getting ready\")"
   ]
  },
  {
   "cell_type": "code",
   "execution_count": 15,
   "metadata": {},
   "outputs": [
    {
     "name": "stdout",
     "output_type": "stream",
     "text": [
      "ticket for cablecar is Rs 50\n"
     ]
    }
   ],
   "source": [
    "country = \"Nepal\"\n",
    "if country == \"Nepal\" or country == \"India\":\n",
    "    print(\"ticket for cablecar is Rs 50\")\n",
    "else:\n",
    "    print(\"ticket for cablecar is Rs 150\")\n",
    "\n"
   ]
  },
  {
   "cell_type": "code",
   "execution_count": 17,
   "metadata": {},
   "outputs": [
    {
     "name": "stdout",
     "output_type": "stream",
     "text": [
      "ticket for cablecar is Rs 50\n"
     ]
    }
   ],
   "source": [
    "country= input(\"Enter your country\")\n",
    "if country.lower() == \"nepal\" or country.lower() == \"India\":\n",
    "    print(\"ticket for cablecar is Rs 50\")\n",
    "else:\n",
    "    print(\"ticket for cablecar is Rs 150\")\n"
   ]
  },
  {
   "cell_type": "markdown",
   "metadata": {},
   "source": [
    "While loop "
   ]
  },
  {
   "cell_type": "code",
   "execution_count": 18,
   "metadata": {},
   "outputs": [
    {
     "name": "stdout",
     "output_type": "stream",
     "text": [
      "Hello0\n",
      "Hello1\n",
      "Hello2\n",
      "Hello3\n",
      "Hello4\n",
      "Hello5\n",
      "Hello6\n",
      "Hello7\n",
      "Hello8\n",
      "Hello9\n"
     ]
    }
   ],
   "source": [
    "from time import sleep \n",
    "counter = 0\n",
    "while counter<10:\n",
    "    print(\"Hello\" + str(counter))\n",
    "    counter +=1\n",
    "    sleep(1)"
   ]
  },
  {
   "cell_type": "code",
   "execution_count": 21,
   "metadata": {},
   "outputs": [
    {
     "name": "stdout",
     "output_type": "stream",
     "text": [
      "Hello10\n",
      "Hello9\n",
      "Hello8\n",
      "Hello7\n",
      "Hello6\n",
      "Hello5\n",
      "Hello4\n",
      "Hello3\n",
      "Hello2\n",
      "Hello1\n"
     ]
    }
   ],
   "source": [
    "from time import sleep \n",
    "counter = 10\n",
    "while counter>0:\n",
    "    print(\"Hello\" + str(counter))\n",
    "    counter -=1\n",
    "    sleep(1)"
   ]
  },
  {
   "cell_type": "markdown",
   "metadata": {},
   "source": [
    "FINDING SUM OF FIRST N EVEN NUMBERS "
   ]
  },
  {
   "cell_type": "code",
   "execution_count": 26,
   "metadata": {},
   "outputs": [
    {
     "name": "stdout",
     "output_type": "stream",
     "text": [
      "2550\n"
     ]
    }
   ],
   "source": [
    "n=100\n",
    "counter = 1\n",
    "sum = 0\n",
    "while counter<=n :\n",
    "    if counter%2 ==0:\n",
    "        sum += counter\n",
    "    counter+=1\n",
    "\n",
    "print(sum)\n"
   ]
  },
  {
   "cell_type": "code",
   "execution_count": 1,
   "metadata": {},
   "outputs": [
    {
     "name": "stdout",
     "output_type": "stream",
     "text": [
      "14\n",
      "lapeN udnamhtaK\n"
     ]
    }
   ],
   "source": [
    "address= \"Kathmandu Nepal\"\n",
    "length = len(address)-1 \n",
    "reversed_string =''\n",
    "print(length)\n",
    "while length>=0:\n",
    "    reversed_string +=address[length]\n",
    "    length -=1\n",
    "print(reversed_string)\n"
   ]
  },
  {
   "cell_type": "markdown",
   "metadata": {},
   "source": [
    "list is ordered collection of items "
   ]
  },
  {
   "cell_type": "code",
   "execution_count": 2,
   "metadata": {},
   "outputs": [
    {
     "name": "stdout",
     "output_type": "stream",
     "text": [
      "1\n",
      "6\n",
      "6\n"
     ]
    }
   ],
   "source": [
    "numbers =[1,2,3,4,5,6]\n",
    "students = ['Ram','Hari']\n",
    "\n",
    "first_number= numbers[0]\n",
    "print(first_number)\n",
    "\n",
    "total_items = len(numbers)\n",
    "print(total_items)\n",
    "\n",
    "last_element = numbers[total_items-1]\n",
    "print(last_element)\n"
   ]
  },
  {
   "cell_type": "markdown",
   "metadata": {},
   "source": [
    "list append "
   ]
  },
  {
   "cell_type": "code",
   "execution_count": 9,
   "metadata": {},
   "outputs": [
    {
     "name": "stdout",
     "output_type": "stream",
     "text": [
      "[1, 4, 5, 7, 8, 9, 8, 9]\n",
      "[1, 4, 5, 7, 8, 9, 8, 9, 8]\n",
      "[1, 4, 5, 7, 8, 9, 8, 9]\n",
      "[1, 4, 7, 8, 9, 8, 9]\n",
      "1\n"
     ]
    }
   ],
   "source": [
    "numbers = [1,4,5,7,8,9,8,9]\n",
    "print(numbers)\n",
    "\n",
    "numbers.append(8)\n",
    "print(numbers)\n",
    "\n",
    "numbers.pop()\n",
    "print(numbers)\n",
    "\n",
    "numbers.remove(5)\n",
    "print(numbers)\n",
    "\n",
    "numbers.insert(2,10)\n",
    "\n",
    "print(numbers.count(1))\n",
    "\n",
    "\n"
   ]
  },
  {
   "cell_type": "code",
   "execution_count": 10,
   "metadata": {},
   "outputs": [
    {
     "name": "stdout",
     "output_type": "stream",
     "text": [
      "['Ram', 'Hari']\n",
      "Ram exists in a\n"
     ]
    }
   ],
   "source": [
    "a = ['Ram','Hari']\n",
    "b = a \n",
    "b = a.copy()\n",
    "a.append('Gopal')\n",
    "print(b)\n",
    "if 'Ram' in a:\n",
    "    print(\"Ram exists in a\")\n",
    "    "
   ]
  },
  {
   "cell_type": "code",
   "execution_count": 11,
   "metadata": {},
   "outputs": [
    {
     "name": "stdout",
     "output_type": "stream",
     "text": [
      "27\n"
     ]
    }
   ],
   "source": [
    "numbers = [1,2,3,4,5,6,6]\n",
    "\n",
    "total_items = len(numbers)\n",
    "index = 0\n",
    "sum = 0\n",
    "while index<total_items:\n",
    "    sum += numbers[index]\n",
    "    index+=1\n",
    "\n",
    "print(sum)\n"
   ]
  },
  {
   "cell_type": "code",
   "execution_count": 14,
   "metadata": {},
   "outputs": [
    {
     "name": "stdout",
     "output_type": "stream",
     "text": [
      "1\n",
      "2\n",
      "3\n",
      "4\n",
      "5\n",
      "6\n",
      "6\n",
      "27\n"
     ]
    }
   ],
   "source": [
    "numbers = [1,2,3,4,5,6,6]\n",
    "\n",
    "total_items = len(numbers)\n",
    "index = 0\n",
    "sum = 0\n",
    "while index<total_items:\n",
    "    element = numbers[index]\n",
    "    sum += element\n",
    "    print(element)\n",
    "    index+=1\n",
    "\n",
    "print(sum)"
   ]
  },
  {
   "cell_type": "code",
   "execution_count": 15,
   "metadata": {},
   "outputs": [
    {
     "name": "stdout",
     "output_type": "stream",
     "text": [
      "6\n"
     ]
    }
   ],
   "source": [
    "numbers = [1,2,3,4,5,6,6]\n",
    "\n",
    "total_items = len(numbers)\n",
    "index = 0\n",
    "max_value = numbers[0]\n",
    "\n",
    "while index<total_items:\n",
    "    element = numbers[index]\n",
    "    if element > max_value:\n",
    "        max_value = element \n",
    "    index+=1\n",
    "\n",
    "print(max_value)"
   ]
  },
  {
   "cell_type": "markdown",
   "metadata": {},
   "source": [
    "filter values "
   ]
  },
  {
   "cell_type": "code",
   "execution_count": 17,
   "metadata": {},
   "outputs": [
    {
     "name": "stdout",
     "output_type": "stream",
     "text": [
      "['Sita', 'Hari', 'Gopal']\n"
     ]
    }
   ],
   "source": [
    "students =['Ram','Sita','Hari','Gopal']\n",
    "filtered_students = [ i for i in students if i !='Ram']\n",
    "print(filtered_students)"
   ]
  },
  {
   "cell_type": "code",
   "execution_count": null,
   "metadata": {},
   "outputs": [],
   "source": []
  }
 ],
 "metadata": {
  "kernelspec": {
   "display_name": "base",
   "language": "python",
   "name": "python3"
  },
  "language_info": {
   "codemirror_mode": {
    "name": "ipython",
    "version": 3
   },
   "file_extension": ".py",
   "mimetype": "text/x-python",
   "name": "python",
   "nbconvert_exporter": "python",
   "pygments_lexer": "ipython3",
   "version": "3.12.4"
  }
 },
 "nbformat": 4,
 "nbformat_minor": 2
}
